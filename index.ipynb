{
 "cells": [
  {
   "cell_type": "markdown",
   "metadata": {},
   "source": [
    "# Merkle Roots"
   ]
  },
  {
   "cell_type": "code",
   "execution_count": null,
   "metadata": {},
   "outputs": [],
   "source": [
    "# Block Merkle Root Example\n",
    "\n",
    "from helper import double_sha256, merkle_parent_level, merkle_root\n",
    "tx_hex_hashes = [\n",
    "    '42f6f52f17620653dcc909e58bb352e0bd4bd1381e2955d19c00959a22122b2e',\n",
    "    '94c3af34b9667bf787e1c6a0a009201589755d01d02fe2877cc69b929d2418d4',\n",
    "    '959428d7c48113cb9149d0566bde3d46e98cf028053c522b8fa8f735241aa953',\n",
    "    'a9f27b99d5d108dede755710d4a1ffa2c74af70b4ca71726fa57d68454e609a2',\n",
    "    '62af110031e29de1efcad103b3ad4bec7bdcf6cb9c9f4afdd586981795516577',\n",
    "    '766900590ece194667e9da2984018057512887110bf54fe0aa800157aec796ba',\n",
    "    'e8270fb475763bc8d855cfe45ed98060988c1bdcad2ffc8364f783c98999a208',\n",
    "]\n",
    "current_level = [bytes.fromhex(x)[::-1] for x in tx_hex_hashes]\n",
    "print(merkle_root(current_level)[::-1].hex())"
   ]
  },
  {
   "cell_type": "markdown",
   "metadata": {},
   "source": [
    "### Try it\n",
    "\n",
    "#### Validate the merkle root for this block on Testnet:\n",
    "Block Hash:\n",
    "```\n",
    "0000000000000451fa80fcdb243b84c35eaae215a85a8faa880559e8239e6f20\n",
    "```\n",
    "\n",
    "https://api.blockcypher.com/v1/btc/test3/blocks/0000000000000451fa80fcdb243b84c35eaae215a85a8faa880559e8239e6f20\n",
    "\n",
    "Transaction Hashes:\n",
    "```\n",
    "42f6f52f17620653dcc909e58bb352e0bd4bd1381e2955d19c00959a22122b2e\n",
    "94c3af34b9667bf787e1c6a0a009201589755d01d02fe2877cc69b929d2418d4\n",
    "959428d7c48113cb9149d0566bde3d46e98cf028053c522b8fa8f735241aa953\n",
    "a9f27b99d5d108dede755710d4a1ffa2c74af70b4ca71726fa57d68454e609a2\n",
    "62af110031e29de1efcad103b3ad4bec7bdcf6cb9c9f4afdd586981795516577\n",
    "766900590ece194667e9da2984018057512887110bf54fe0aa800157aec796ba\n",
    "e8270fb475763bc8d855cfe45ed98060988c1bdcad2ffc8364f783c98999a208\n",
    "921b8cfd3e14bf41f028f0a3aa88c813d5039a2b1bceb12208535b0b43a5d09e\n",
    "15535864799652347cec66cba473f6d8291541238e58b2e03b046bc53cfe1321\n",
    "1c8af7c502971e67096456eac9cd5407aacf62190fc54188995666a30faf99f0\n",
    "3311f8acc57e8a3e9b68e2945fb4f53c07b0fa4668a7e5cda6255c21558c774d\n",
    "```"
   ]
  },
  {
   "cell_type": "code",
   "execution_count": null,
   "metadata": {},
   "outputs": [],
   "source": [
    "from helper import double_sha256, merkle_root\n",
    "\n",
    "tx_hex_hashes = [\n",
    "    '42f6f52f17620653dcc909e58bb352e0bd4bd1381e2955d19c00959a22122b2e',\n",
    "    '94c3af34b9667bf787e1c6a0a009201589755d01d02fe2877cc69b929d2418d4',\n",
    "    '959428d7c48113cb9149d0566bde3d46e98cf028053c522b8fa8f735241aa953',\n",
    "    'a9f27b99d5d108dede755710d4a1ffa2c74af70b4ca71726fa57d68454e609a2',\n",
    "    '62af110031e29de1efcad103b3ad4bec7bdcf6cb9c9f4afdd586981795516577',\n",
    "    '766900590ece194667e9da2984018057512887110bf54fe0aa800157aec796ba',\n",
    "    'e8270fb475763bc8d855cfe45ed98060988c1bdcad2ffc8364f783c98999a208',\n",
    "    '921b8cfd3e14bf41f028f0a3aa88c813d5039a2b1bceb12208535b0b43a5d09e',\n",
    "    '15535864799652347cec66cba473f6d8291541238e58b2e03b046bc53cfe1321',\n",
    "    '1c8af7c502971e67096456eac9cd5407aacf62190fc54188995666a30faf99f0',\n",
    "    '3311f8acc57e8a3e9b68e2945fb4f53c07b0fa4668a7e5cda6255c21558c774d',\n",
    "]\n",
    "\n",
    "# bytes.fromhex and reverse ([::-1]) to get all the hashes in binary\n",
    "# get the merkle root\n",
    "# hex() the reversed root"
   ]
  },
  {
   "cell_type": "markdown",
   "metadata": {},
   "source": [
    "### Test Driven Exercise"
   ]
  },
  {
   "cell_type": "code",
   "execution_count": null,
   "metadata": {},
   "outputs": [],
   "source": [
    "from block import Block\n",
    "from io import BytesIO\n",
    "\n",
    "class Block(Block):\n",
    "    \n",
    "    def validate_merkle_root(self):\n",
    "        '''Gets the merkle root of the tx_hashes and checks that it's\n",
    "        the same as the merkle root of this block.\n",
    "        '''\n",
    "        # reverse all the transaction hashes (self.tx_hashes)\n",
    "        # get the Merkle Root\n",
    "        # reverse the Merkle Root\n",
    "        # return whether self.merkle root is the same as\n",
    "        # the reverse of the calculated merkle root\n",
    "        pass\n",
    "\n",
    "    def calculate_merkle_tree(self):\n",
    "        '''Calculate and store the entire Merkle Tree'''\n",
    "        # store the result in self.merkle_tree, an array, 0 representing\n",
    "        # the bottom level and 1 the parent level of level 0 and so on.\n",
    "        # initialize self.merkle_tree to be an empty list\n",
    "        # reverse all the transaction hashes (self.tx_hashes) store as current level\n",
    "        # while there is more than 1 hash:\n",
    "            # store current level in self.merkle_tree\n",
    "            # Make current level Merkle Parent level\n",
    "        pass"
   ]
  }
 ],
 "metadata": {
  "kernelspec": {
   "display_name": "Python 3",
   "language": "python",
   "name": "python3"
  },
  "language_info": {
   "codemirror_mode": {
    "name": "ipython",
    "version": 3
   },
   "file_extension": ".py",
   "mimetype": "text/x-python",
   "name": "python",
   "nbconvert_exporter": "python",
   "pygments_lexer": "ipython3",
   "version": "3.6.4"
  }
 },
 "nbformat": 4,
 "nbformat_minor": 2
}
